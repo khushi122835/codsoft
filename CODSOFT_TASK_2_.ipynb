{
  "nbformat": 4,
  "nbformat_minor": 0,
  "metadata": {
    "colab": {
      "provenance": [],
      "authorship_tag": "ABX9TyMeZO6sK1Qm2m0DlS0FQuZq",
      "include_colab_link": true
    },
    "kernelspec": {
      "name": "python3",
      "display_name": "Python 3"
    },
    "language_info": {
      "name": "python"
    }
  },
  "cells": [
    {
      "cell_type": "markdown",
      "metadata": {
        "id": "view-in-github",
        "colab_type": "text"
      },
      "source": [
        "<a href=\"https://colab.research.google.com/github/khushi122835/codsoft/blob/main/CODSOFT_TASK_2_.ipynb\" target=\"_parent\"><img src=\"https://colab.research.google.com/assets/colab-badge.svg\" alt=\"Open In Colab\"/></a>"
      ]
    },
    {
      "cell_type": "markdown",
      "source": [
        "TASK 2 CALCULATOR USING PYTHON\n",
        "\n",
        "NAME - KHUSHI KHANDELWAL\n",
        "\n",
        "DOMAIN - PYTHON PROGRAMMING\n",
        "\n",
        "BATCH - OCTOBER 2024\n",
        "\n"
      ],
      "metadata": {
        "id": "T62AuUq-uk16"
      }
    },
    {
      "cell_type": "code",
      "source": [
        "#TASK 2 : CALCULATOR\n",
        "# Define a function for each arithmetic operation\n",
        "def add(x, y):\n",
        "    return x + y\n",
        "\n",
        "def sub(x, y):\n",
        "    return x - y\n",
        "\n",
        "def mul(x, y):\n",
        "    return x * y\n",
        "\n",
        "def div(x, y):\n",
        "    if y == 0:\n",
        "        return \"Error: Division by zero!\"\n",
        "    return x / y\n",
        "\n",
        "# Prompt the user to input two numbers and an operation choice\n",
        "print(\"Simple Calculator\")\n",
        "print(\"----------------\")\n",
        "\n",
        "num1 = float(input(\"Enter the first number: \"))\n",
        "num2 = float(input(\"Enter the second number: \"))\n",
        "\n",
        "print(\"Choose an operation:\")\n",
        "print(\"1. Addition\")\n",
        "print(\"2. Subtraction\")\n",
        "print(\"3. Multiplication\")\n",
        "print(\"4. Division\")\n",
        "\n",
        "operation = int(input(\"Enter your choice (1/2/3/4): \"))\n",
        "# Perform the calculation based on the user's choice\n",
        "if operation == 1:\n",
        "    result = add(num1, num2)\n",
        "elif operation == 2:\n",
        "    result = sub(num1, num2)\n",
        "elif operation == 3:\n",
        "    result = mul(num1, num2)\n",
        "elif operation == 4:\n",
        "    result = div(num1, num2)\n",
        "else:\n",
        "    result = \"Error: Invalid operation choice!\"\n",
        "\n",
        "# Display the result\n",
        "print(\"Result of your operator:\", result)"
      ],
      "metadata": {
        "colab": {
          "base_uri": "https://localhost:8080/"
        },
        "id": "aSzfT_EMlnY6",
        "outputId": "60d94177-7acf-4a55-836c-2d797c7616c8"
      },
      "execution_count": 1,
      "outputs": [
        {
          "output_type": "stream",
          "name": "stdout",
          "text": [
            "Simple Calculator\n",
            "----------------\n",
            "Enter the first number: 23 \n",
            "Enter the second number: 67\n",
            "Choose an operation:\n",
            "1. Addition\n",
            "2. Subtraction\n",
            "3. Multiplication\n",
            "4. Division\n",
            "Enter your choice (1/2/3/4): 2\n",
            "Result of your operator: -44.0\n"
          ]
        }
      ]
    }
  ]
}