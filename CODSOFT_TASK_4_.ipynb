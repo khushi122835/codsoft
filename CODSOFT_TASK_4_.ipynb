{
  "nbformat": 4,
  "nbformat_minor": 0,
  "metadata": {
    "colab": {
      "provenance": [],
      "authorship_tag": "ABX9TyOR6CNvjaX0MbJx7j1xDmhl",
      "include_colab_link": true
    },
    "kernelspec": {
      "name": "python3",
      "display_name": "Python 3"
    },
    "language_info": {
      "name": "python"
    }
  },
  "cells": [
    {
      "cell_type": "markdown",
      "metadata": {
        "id": "view-in-github",
        "colab_type": "text"
      },
      "source": [
        "<a href=\"https://colab.research.google.com/github/khushi122835/codsoft/blob/main/CODSOFT_TASK_4_.ipynb\" target=\"_parent\"><img src=\"https://colab.research.google.com/assets/colab-badge.svg\" alt=\"Open In Colab\"/></a>"
      ]
    },
    {
      "cell_type": "markdown",
      "source": [
        "TASK 4: ROCK PAPER SCISSORS\n",
        "\n",
        "NAME - KHUSHI KHANDELWAL\n",
        "\n",
        "DOMAIN - PYTHON PROGRAMMING\n",
        "\n",
        "BATCH - OCTOBER 2024\n",
        "\n"
      ],
      "metadata": {
        "id": "T62AuUq-uk16"
      }
    },
    {
      "cell_type": "code",
      "source": [
        "#TASK 4: ROCK PAPER SCISSORS\n",
        "import random\n",
        "\n",
        "def play_game():\n",
        "    user_score = 0\n",
        "    computer_score = 0\n",
        "\n",
        "    while True:\n",
        "        # User selects rock, paper, or scissors\n",
        "        user_choice = input(\"Choose rock, paper, or scissors: \").lower()\n",
        "\n",
        "        if user_choice not in [\"rock\", \"paper\", \"scissors\"]:\n",
        "            print(\"Invalid choice! Please try again.\")\n",
        "            continue\n",
        "\n",
        "        # Computer makes a random choice\n",
        "        computer_choice = random.choice([\"rock\", \"paper\", \"scissors\"])\n",
        "\n",
        "        # Display choices\n",
        "        print(f\"You chose: {user_choice}\")\n",
        "        print(f\"Computer chose: {computer_choice}\")\n",
        "\n",
        "        # Determine the winner\n",
        "        if user_choice == computer_choice:\n",
        "            print(\"It's a tie!\")\n",
        "        elif (user_choice == \"rock\" and computer_choice == \"scissors\") or \\\n",
        "             (user_choice == \"scissors\" and computer_choice == \"paper\") or \\\n",
        "             (user_choice == \"paper\" and computer_choice == \"rock\"):\n",
        "            print(\"You win!\")\n",
        "            user_score += 1\n",
        "        else:\n",
        "            print(\"You lose!\")\n",
        "            computer_score += 1\n",
        "\n",
        "        # Display scores\n",
        "        print(f\"Score - You: {user_score}, Computer: {computer_score}\")\n",
        "\n",
        "        # Ask to play again\n",
        "        play_again = input(\"Do you want to play again? (yes/no): \").lower()\n",
        "        if play_again != 'yes':\n",
        "            break\n",
        "\n",
        "    print(\"Thanks for playing!\")\n",
        "\n",
        "# Start the game\n",
        "play_game()"
      ],
      "metadata": {
        "id": "9d8SDKJvx-q9"
      },
      "execution_count": null,
      "outputs": []
    }
  ]
}