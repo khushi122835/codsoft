{
  "nbformat": 4,
  "nbformat_minor": 0,
  "metadata": {
    "colab": {
      "provenance": [],
      "authorship_tag": "ABX9TyM6i9lIwg1X0qAzfQEFPQjI",
      "include_colab_link": true
    },
    "kernelspec": {
      "name": "python3",
      "display_name": "Python 3"
    },
    "language_info": {
      "name": "python"
    }
  },
  "cells": [
    {
      "cell_type": "markdown",
      "metadata": {
        "id": "view-in-github",
        "colab_type": "text"
      },
      "source": [
        "<a href=\"https://colab.research.google.com/github/khushi122835/codsoft/blob/main/TASK_5_CONTACT_BOOK_.ipynb\" target=\"_parent\"><img src=\"https://colab.research.google.com/assets/colab-badge.svg\" alt=\"Open In Colab\"/></a>"
      ]
    },
    {
      "cell_type": "code",
      "execution_count": 1,
      "metadata": {
        "colab": {
          "base_uri": "https://localhost:8080/"
        },
        "id": "STf5mSD18n6n",
        "outputId": "94682678-ef6e-4aad-df1a-e1036a2194ea"
      },
      "outputs": [
        {
          "output_type": "stream",
          "name": "stdout",
          "text": [
            "\n",
            "Contact Book\n",
            "1. Add Contact\n",
            "2. View Contacts\n",
            "3. Delete Contact\n",
            "4. Exit\n",
            "Choose an option: tanushka\n",
            "Invalid option. Please try again.\n",
            "\n",
            "Contact Book\n",
            "1. Add Contact\n",
            "2. View Contacts\n",
            "3. Delete Contact\n",
            "4. Exit\n",
            "Choose an option: 1\n",
            "Enter contact name: tanushka\n",
            "Enter contact phone: 78909667578\n",
            "Contact 'tanushka' added.\n",
            "\n",
            "Contact Book\n",
            "1. Add Contact\n",
            "2. View Contacts\n",
            "3. Delete Contact\n",
            "4. Exit\n",
            "Choose an option: 4\n",
            "Exiting...\n"
          ]
        }
      ],
      "source": [
        "class ContactBook:\n",
        "    def __init__(self):\n",
        "        self.contacts = {}\n",
        "\n",
        "    def add_contact(self, name, phone):\n",
        "        if name in self.contacts:\n",
        "            print(f\"Contact '{name}' already exists.\")\n",
        "        else:\n",
        "            self.contacts[name] = phone\n",
        "            print(f\"Contact '{name}' added.\")\n",
        "\n",
        "    def view_contacts(self):\n",
        "        if not self.contacts:\n",
        "            print(\"No contacts found.\")\n",
        "        else:\n",
        "            print(\"Contacts:\")\n",
        "            for name, phone in self.contacts.items():\n",
        "                print(f\"{name}: {phone}\")\n",
        "\n",
        "    def delete_contact(self, name):\n",
        "        if name in self.contacts:\n",
        "            del self.contacts[name]\n",
        "            print(f\"Contact '{name}' deleted.\")\n",
        "        else:\n",
        "            print(f\"Contact '{name}' not found.\")\n",
        "\n",
        "    def run(self):\n",
        "        while True:\n",
        "            print(\"\\nContact Book\")\n",
        "            print(\"1. Add Contact\")\n",
        "            print(\"2. View Contacts\")\n",
        "            print(\"3. Delete Contact\")\n",
        "            print(\"4. Exit\")\n",
        "            choice = input(\"Choose an option: \")\n",
        "\n",
        "            if choice == '1':\n",
        "                name = input(\"Enter contact name: \")\n",
        "                phone = input(\"Enter contact phone: \")\n",
        "                self.add_contact(name, phone)\n",
        "            elif choice == '2':\n",
        "                self.view_contacts()\n",
        "            elif choice == '3':\n",
        "                name = input(\"Enter contact name to delete: \")\n",
        "                self.delete_contact(name)\n",
        "            elif choice == '4':\n",
        "                print(\"Exiting...\")\n",
        "                break\n",
        "            else:\n",
        "                print(\"Invalid option. Please try again.\")\n",
        "\n",
        "if __name__ == \"__main__\":\n",
        "    contact_book = ContactBook()\n",
        "    contact_book.run()"
      ]
    }
  ]
}